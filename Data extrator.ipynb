{
 "cells": [
  {
   "cell_type": "code",
   "execution_count": 18,
   "metadata": {},
   "outputs": [],
   "source": [
    "import glob\n",
    "import pandas as pd\n",
    "import mne"
   ]
  },
  {
   "cell_type": "code",
   "execution_count": 8,
   "metadata": {},
   "outputs": [],
   "source": [
    "# Linha em que os dados aparecem\n",
    "LINE_IDX_P300 = 27\n",
    "LINE_IDX_P1N1P2N2 = 27\n"
   ]
  },
  {
   "cell_type": "code",
   "execution_count": 9,
   "metadata": {},
   "outputs": [
    {
     "data": {
      "text/plain": [
       "['Fala Noise60 - Etapa1\\\\',\n",
       " 'Fala Sem Ruido - Etapa 1\\\\',\n",
       " 'Tone Burst Noise60 - Etapa 1\\\\',\n",
       " 'Tone Burst Noise70 - Etapa 1\\\\',\n",
       " 'Tone Burst Sem Ruído - Etapa 1\\\\']"
      ]
     },
     "execution_count": 9,
     "metadata": {},
     "output_type": "execute_result"
    }
   ],
   "source": [
    "# Armazena todos os nomes de pastas na variável folder\n",
    "folders = glob.glob('*/')\n",
    "folders"
   ]
  },
  {
   "cell_type": "code",
   "execution_count": 10,
   "metadata": {},
   "outputs": [],
   "source": [
    "def process_files(path, LINE_IDX):\n",
    "    \"\"\"\n",
    "    Método para extração de dados de todos os arquivos do path.\n",
    "    Path é um caminho em expressão regular. \n",
    "    ex: path = Fala Sem Ruido - Etapa 1/*.TXT -> Pega todos os arquivos .TXT da pasta Fala Sem Ruido - Etapa 1\n",
    "    Método retorna um DataFrame com todos os dados dos arquivos\n",
    "    \"\"\"\n",
    "    all_files = glob.glob(path)\n",
    "    all_lines = []\n",
    "    # Pega o nome das colunas para mostrar na tabela\n",
    "    column_names = open(all_files[0]).readlines()[LINE_IDX - 1].replace(':', '').strip().split(',')\n",
    "    \n",
    "    # Itera sobre todos os arquivos da pasta\n",
    "    for current_file in all_files:\n",
    "        # Obtém os dados do arquivo o qual estamos iterando\n",
    "        file_lines = open(current_file).readlines()[LINE_IDX:]\n",
    "        # Remove espaços em brancos e \"\\n\"s de todos os dados\n",
    "        file_lines = [line.strip() for line in file_lines]\n",
    "        \n",
    "        # Separa cada número em uma posição do array\n",
    "        for line in file_lines:\n",
    "            try:\n",
    "                all_lines.append([float(number) for number in line.split(',')])\n",
    "            except:\n",
    "                print('Arquivo no formato errado:', current_file)\n",
    "            \n",
    "    # Retorna um objeto DataFrame da biblioteca Pandas\n",
    "    return pd.DataFrame(all_lines, columns=column_names)\n"
   ]
  },
  {
   "cell_type": "code",
   "execution_count": 11,
   "metadata": {},
   "outputs": [
    {
     "name": "stdout",
     "output_type": "stream",
     "text": [
      "Arquivo no formato errado: ./Fala Sem Ruido - Etapa 1\\S64_Speech_Quiet_RE_p1n1p2n2.TXT\n",
      "Arquivo no formato errado: ./Tone Burst Noise60 - Etapa 1\\S21_TB_Noise60_LE_p1n1p2n2.TXT\n",
      "Arquivo no formato errado: ./Tone Burst Noise70 - Etapa 1\\S13_TB_Noise70_LE_p1n1p2n2.TXT\n",
      "Arquivo no formato errado: ./Tone Burst Noise70 - Etapa 1\\S17_TB_Noise70_RE_p1n1p2n2.TXT\n"
     ]
    }
   ],
   "source": [
    "dataframe_dict = {}\n",
    "# \n",
    "for folder in folders:\n",
    "    # Cria uma posição no dicionário com o nome da pasta\n",
    "    dataframe_dict[folder.replace('/', '')] = {}\n",
    "    # Extrai os dados\n",
    "    p300_df = process_files('./{}*p300.TXT'.format(folder), 27)\n",
    "    # Salva os dados no dataframe na posição dataframe_dict[pasta][p300]\n",
    "    dataframe_dict[folder.replace('/', '')]['p300'] = p300_df\n",
    "    \n",
    "    p1n1p2n2_df = process_files('./{}*p1n1p2n2.TXT'.format(folder), 30)\n",
    "    dataframe_dict[folder.replace('/', '')]['p1n1p2n2'] = p1n1p2n2_df        "
   ]
  },
  {
   "cell_type": "code",
   "execution_count": 17,
   "metadata": {},
   "outputs": [
    {
     "data": {
      "text/html": [
       "<div>\n",
       "<style scoped>\n",
       "    .dataframe tbody tr th:only-of-type {\n",
       "        vertical-align: middle;\n",
       "    }\n",
       "\n",
       "    .dataframe tbody tr th {\n",
       "        vertical-align: top;\n",
       "    }\n",
       "\n",
       "    .dataframe thead th {\n",
       "        text-align: right;\n",
       "    }\n",
       "</style>\n",
       "<table border=\"1\" class=\"dataframe\">\n",
       "  <thead>\n",
       "    <tr style=\"text-align: right;\">\n",
       "      <th></th>\n",
       "      <th>Data Pnt</th>\n",
       "      <th>Data Pnt(ms)</th>\n",
       "      <th>Average</th>\n",
       "      <th>Average(uV)</th>\n",
       "      <th>Buffer1</th>\n",
       "      <th>Buffer1(uV)</th>\n",
       "      <th>Buffer2</th>\n",
       "      <th>Buffer2(uV)</th>\n",
       "    </tr>\n",
       "  </thead>\n",
       "  <tbody>\n",
       "    <tr>\n",
       "      <th>0</th>\n",
       "      <td>1.0</td>\n",
       "      <td>-512.0</td>\n",
       "      <td>0.0</td>\n",
       "      <td>0.00</td>\n",
       "      <td>0.0</td>\n",
       "      <td>0.00</td>\n",
       "      <td>0.0</td>\n",
       "      <td>0.00</td>\n",
       "    </tr>\n",
       "    <tr>\n",
       "      <th>1</th>\n",
       "      <td>2.0</td>\n",
       "      <td>-511.0</td>\n",
       "      <td>0.0</td>\n",
       "      <td>0.00</td>\n",
       "      <td>0.0</td>\n",
       "      <td>0.00</td>\n",
       "      <td>0.0</td>\n",
       "      <td>0.00</td>\n",
       "    </tr>\n",
       "    <tr>\n",
       "      <th>2</th>\n",
       "      <td>3.0</td>\n",
       "      <td>-510.0</td>\n",
       "      <td>0.0</td>\n",
       "      <td>0.00</td>\n",
       "      <td>0.0</td>\n",
       "      <td>0.00</td>\n",
       "      <td>0.0</td>\n",
       "      <td>0.00</td>\n",
       "    </tr>\n",
       "    <tr>\n",
       "      <th>3</th>\n",
       "      <td>4.0</td>\n",
       "      <td>-509.0</td>\n",
       "      <td>0.0</td>\n",
       "      <td>0.00</td>\n",
       "      <td>0.0</td>\n",
       "      <td>0.00</td>\n",
       "      <td>0.0</td>\n",
       "      <td>0.00</td>\n",
       "    </tr>\n",
       "    <tr>\n",
       "      <th>4</th>\n",
       "      <td>5.0</td>\n",
       "      <td>-508.0</td>\n",
       "      <td>0.0</td>\n",
       "      <td>0.00</td>\n",
       "      <td>0.0</td>\n",
       "      <td>0.00</td>\n",
       "      <td>0.0</td>\n",
       "      <td>0.00</td>\n",
       "    </tr>\n",
       "    <tr>\n",
       "      <th>...</th>\n",
       "      <td>...</td>\n",
       "      <td>...</td>\n",
       "      <td>...</td>\n",
       "      <td>...</td>\n",
       "      <td>...</td>\n",
       "      <td>...</td>\n",
       "      <td>...</td>\n",
       "      <td>...</td>\n",
       "    </tr>\n",
       "    <tr>\n",
       "      <th>83963</th>\n",
       "      <td>1020.0</td>\n",
       "      <td>507.0</td>\n",
       "      <td>45438.0</td>\n",
       "      <td>4.62</td>\n",
       "      <td>21938.0</td>\n",
       "      <td>4.46</td>\n",
       "      <td>23500.0</td>\n",
       "      <td>4.78</td>\n",
       "    </tr>\n",
       "    <tr>\n",
       "      <th>83964</th>\n",
       "      <td>1021.0</td>\n",
       "      <td>508.0</td>\n",
       "      <td>47820.0</td>\n",
       "      <td>4.86</td>\n",
       "      <td>22693.0</td>\n",
       "      <td>4.62</td>\n",
       "      <td>25127.0</td>\n",
       "      <td>5.11</td>\n",
       "    </tr>\n",
       "    <tr>\n",
       "      <th>83965</th>\n",
       "      <td>1022.0</td>\n",
       "      <td>509.0</td>\n",
       "      <td>49258.0</td>\n",
       "      <td>5.01</td>\n",
       "      <td>23132.0</td>\n",
       "      <td>4.71</td>\n",
       "      <td>26126.0</td>\n",
       "      <td>5.32</td>\n",
       "    </tr>\n",
       "    <tr>\n",
       "      <th>83966</th>\n",
       "      <td>1023.0</td>\n",
       "      <td>510.0</td>\n",
       "      <td>50543.0</td>\n",
       "      <td>5.14</td>\n",
       "      <td>23211.0</td>\n",
       "      <td>4.72</td>\n",
       "      <td>27332.0</td>\n",
       "      <td>5.56</td>\n",
       "    </tr>\n",
       "    <tr>\n",
       "      <th>83967</th>\n",
       "      <td>1024.0</td>\n",
       "      <td>511.0</td>\n",
       "      <td>52295.0</td>\n",
       "      <td>5.32</td>\n",
       "      <td>23024.0</td>\n",
       "      <td>4.68</td>\n",
       "      <td>29271.0</td>\n",
       "      <td>5.96</td>\n",
       "    </tr>\n",
       "  </tbody>\n",
       "</table>\n",
       "<p>83968 rows × 8 columns</p>\n",
       "</div>"
      ],
      "text/plain": [
       "       Data Pnt  Data Pnt(ms)  Average  Average(uV)  Buffer1  Buffer1(uV)  \\\n",
       "0           1.0        -512.0      0.0         0.00      0.0         0.00   \n",
       "1           2.0        -511.0      0.0         0.00      0.0         0.00   \n",
       "2           3.0        -510.0      0.0         0.00      0.0         0.00   \n",
       "3           4.0        -509.0      0.0         0.00      0.0         0.00   \n",
       "4           5.0        -508.0      0.0         0.00      0.0         0.00   \n",
       "...         ...           ...      ...          ...      ...          ...   \n",
       "83963    1020.0         507.0  45438.0         4.62  21938.0         4.46   \n",
       "83964    1021.0         508.0  47820.0         4.86  22693.0         4.62   \n",
       "83965    1022.0         509.0  49258.0         5.01  23132.0         4.71   \n",
       "83966    1023.0         510.0  50543.0         5.14  23211.0         4.72   \n",
       "83967    1024.0         511.0  52295.0         5.32  23024.0         4.68   \n",
       "\n",
       "       Buffer2  Buffer2(uV)  \n",
       "0          0.0         0.00  \n",
       "1          0.0         0.00  \n",
       "2          0.0         0.00  \n",
       "3          0.0         0.00  \n",
       "4          0.0         0.00  \n",
       "...        ...          ...  \n",
       "83963  23500.0         4.78  \n",
       "83964  25127.0         5.11  \n",
       "83965  26126.0         5.32  \n",
       "83966  27332.0         5.56  \n",
       "83967  29271.0         5.96  \n",
       "\n",
       "[83968 rows x 8 columns]"
      ]
     },
     "execution_count": 17,
     "metadata": {},
     "output_type": "execute_result"
    }
   ],
   "source": [
    "#Para acessar os dados dos arquivos terminados em p300\n",
    "# da pasta Fala Sem Ruido - Etapa 1:\n",
    "\n",
    "dataframe_dict['Fala Sem Ruido - Etapa 1\\\\']['p300']"
   ]
  },
  {
   "cell_type": "code",
   "execution_count": 31,
   "metadata": {},
   "outputs": [
    {
     "data": {
      "text/plain": [
       "Data Pnt         512.676360\n",
       "Data Pnt(ms)      -0.323640\n",
       "Average        -4604.516792\n",
       "Average(uV)       -0.159769\n",
       "Buffer1        -2447.164596\n",
       "Buffer1(uV)       -0.168681\n",
       "Buffer2        -2157.352196\n",
       "Buffer2(uV)       -0.150879\n",
       "dtype: float64"
      ]
     },
     "execution_count": 31,
     "metadata": {},
     "output_type": "execute_result"
    }
   ],
   "source": [
    "#Para acessar os dados dos arquivos terminados em p1n1p2n2\n",
    "df = dataframe_dict['Fala Noise60 - Etapa1\\\\']['p1n1p2n2']\n",
    "df.mean()"
   ]
  },
  {
   "cell_type": "code",
   "execution_count": 14,
   "metadata": {},
   "outputs": [
    {
     "data": {
      "text/plain": [
       "['Fala Noise60 - Etapa1\\\\',\n",
       " 'Fala Sem Ruido - Etapa 1\\\\',\n",
       " 'Tone Burst Noise60 - Etapa 1\\\\',\n",
       " 'Tone Burst Noise70 - Etapa 1\\\\',\n",
       " 'Tone Burst Sem Ruído - Etapa 1\\\\']"
      ]
     },
     "execution_count": 14,
     "metadata": {},
     "output_type": "execute_result"
    }
   ],
   "source": [
    "# Pastas:\n",
    "list(dataframe_dict.keys())"
   ]
  },
  {
   "cell_type": "code",
   "execution_count": null,
   "metadata": {},
   "outputs": [],
   "source": []
  },
  {
   "cell_type": "code",
   "execution_count": null,
   "metadata": {},
   "outputs": [],
   "source": []
  }
 ],
 "metadata": {
  "kernelspec": {
   "display_name": "Python 3",
   "language": "python",
   "name": "python3"
  },
  "language_info": {
   "codemirror_mode": {
    "name": "ipython",
    "version": 3
   },
   "file_extension": ".py",
   "mimetype": "text/x-python",
   "name": "python",
   "nbconvert_exporter": "python",
   "pygments_lexer": "ipython3",
   "version": "3.7.6"
  }
 },
 "nbformat": 4,
 "nbformat_minor": 4
}
